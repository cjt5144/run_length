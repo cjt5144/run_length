{
 "cells": [
  {
   "cell_type": "code",
   "execution_count": 1,
   "metadata": {
    "collapsed": true
   },
   "outputs": [],
   "source": [
    "%load_ext Cython\n",
    "import numpy as np\n",
    "from numpy.random import randint\n",
    "\n",
    "import pyximport; pyximport.install(reload_support=True, setup_args={'include_dirs':np.get_include()})\n",
    "\n",
    "import timeit\n",
    "\n",
    "%load_ext autoreload\n",
    "%autoreload 2"
   ]
  },
  {
   "cell_type": "code",
   "execution_count": 2,
   "metadata": {},
   "outputs": [],
   "source": [
    "# import rlencode as runl\n",
    "import rlencode as runl"
   ]
  },
  {
   "cell_type": "code",
   "execution_count": 3,
   "metadata": {},
   "outputs": [
    {
     "name": "stdout",
     "output_type": "stream",
     "text": [
      "[0 1 1 0 0 1 0 1 0 1]\n",
      "[ 2  2  6  1  8  1 10  1]\n",
      "[[0 1 1]\n",
      " [1 1 1]\n",
      " [1 1 0]\n",
      " [0 0 0]]\n",
      "[2 2 5 3 9 2]\n",
      "[[[1 1]\n",
      "  [1 0]\n",
      "  [0 0]]\n",
      "\n",
      " [[1 1]\n",
      "  [1 0]\n",
      "  [0 1]]\n",
      "\n",
      " [[0 0]\n",
      "  [1 1]\n",
      "  [1 0]]\n",
      "\n",
      " [[0 0]\n",
      "  [0 1]\n",
      "  [1 1]]]\n",
      "[array([1, 2, 4, 1]), array([1, 2, 4, 1, 6, 1]), array([2, 2, 5, 1]), array([3, 1, 5, 2])]\n"
     ]
    }
   ],
   "source": [
    "np.random.seed(2)\n",
    "a1 = np.random.randint(0, 2, 10)\n",
    "ao = runl.encode(a1, 1, 1)\n",
    "a2 = randint(0, 2, (4,3))\n",
    "ao2 = runl.encode(a2)\n",
    "a3 = randint(0, 2, (4,3,2))\n",
    "ao3 = runl.batch_encode(a3)\n",
    "\n",
    "print(a1)\n",
    "print(ao)\n",
    "print(a2)\n",
    "print(ao2)\n",
    "print(a3)\n",
    "print(ao3)"
   ]
  },
  {
   "cell_type": "code",
   "execution_count": 4,
   "metadata": {},
   "outputs": [],
   "source": [
    "timeit_setup = \"\"\"\n",
    "import rlencode as runl\n",
    "import numpy as np\n",
    "from numpy.random import randint\n",
    "np.random.seed(2)\n",
    "a2 = randint(0, 2, (75,75))\n",
    "\"\"\"\n",
    "\n",
    "print(timeit.timeit('ao2 = runl.encode(a2)', setup=timeit_setup, number=100000))\n",
    "# 100,000 iterations of 75x75 matrices = ~5.5 second on mid-2012 MACBook Pro 8GB Memory\n",
    "\n",
    "timeit_setup2 = \"\"\"\n",
    "import rlencode as runl\n",
    "import numpy as np\n",
    "from numpy.random import randint\n",
    "np.random.seed(2)\n",
    "ba1 = randint(0, 2, (10000, 75, 75))\n",
    "\"\"\"\n",
    "print(timeit.timeit('bao1 = runl.encode(ba1)', setup=timeit_setup2, number=3))\n",
    "# 10,000 75x75 matrices = ~5.2 second on mid-2012 MACBook Pro 8GB Memory"
   ]
  },
  {
   "cell_type": "code",
   "execution_count": 5,
   "metadata": {},
   "outputs": [
    {
     "name": "stdout",
     "output_type": "stream",
     "text": [
      "['1 1', '3 1 5 2', '1 1 4 1 6 1', '2 1 4 3']\n"
     ]
    }
   ],
   "source": [
    "a4 = randint(0, 2, (4,3,2))\n",
    "ao4 = runl.batch_encode(a4, to_string=True)\n",
    "\n",
    "print(ao4)"
   ]
  },
  {
   "cell_type": "code",
   "execution_count": null,
   "metadata": {
    "collapsed": true
   },
   "outputs": [],
   "source": []
  }
 ],
 "metadata": {
  "kernelspec": {
   "display_name": "Python 3",
   "language": "python",
   "name": "python3"
  },
  "language_info": {
   "codemirror_mode": {
    "name": "ipython",
    "version": 3
   },
   "file_extension": ".py",
   "mimetype": "text/x-python",
   "name": "python",
   "nbconvert_exporter": "python",
   "pygments_lexer": "ipython3",
   "version": "3.6.3"
  }
 },
 "nbformat": 4,
 "nbformat_minor": 2
}
